{
 "cells": [
  {
   "cell_type": "markdown",
   "id": "urban-advantage",
   "metadata": {},
   "source": [
    "# Overview\n",
    "\n",
    "A *C#* utility to split images in the format `id_index.jpg` into corresponding image folders of `name/index.jpg`. This utility require a C# kernel to run.\n",
    "\n",
    "This program is used to process the **images** from [Horses Breeds dataset](https://www.kaggle.com/olgabelitskaya/horse-breeds). You need to manually put all those images inside an **images** folder. It must be run on **the folder that contains the *images* folder (i.e. the parent folder)**."
   ]
  },
  {
   "cell_type": "code",
   "execution_count": 5,
   "id": "detected-contrary",
   "metadata": {},
   "outputs": [],
   "source": [
    "// Namepsaces\n",
    "using System.IO;\n",
    "using System.Linq;\n",
    "\n",
    "// Definitions\n",
    "Dictionary<string, string> IDs = new Dictionary<string, string>()\n",
    "{\n",
    "    { \"01\", \"Akhal-Teke\" },\n",
    "    { \"02\", \"Appaloosa\" },\n",
    "    { \"03\", \"Orlov Trotter\" }, \n",
    "    { \"04\", \"Vladimir Heavy Draft\" },\n",
    "    { \"05\", \"Percheron\" },\n",
    "    { \"06\", \"Arabian\" },\n",
    "    { \"07\", \"Friesian\" }\n",
    "};"
   ]
  },
  {
   "cell_type": "code",
   "execution_count": 13,
   "id": "interim-redhead",
   "metadata": {},
   "outputs": [],
   "source": [
    "// Create directories for breeds\n",
    "foreach(string b in IDs.Values)\n",
    "{\n",
    "    Directory.CreateDirectory(b);\n",
    "}"
   ]
  },
  {
   "cell_type": "code",
   "execution_count": 9,
   "id": "interim-static",
   "metadata": {},
   "outputs": [],
   "source": [
    "// (Sanity check) See whether we have file names not ends with .png (except the utility program itself)\n",
    "foreach(string s in Directory.GetFiles(\"images\").Where(f => f.EndsWith(\".png\") == false))\n",
    "{\n",
    "    Console.WriteLine($\"Found exceptional file: {s}\");\n",
    "}"
   ]
  },
  {
   "cell_type": "code",
   "execution_count": 11,
   "id": "gothic-clarity",
   "metadata": {},
   "outputs": [
    {
     "data": {
      "text/html": [
       "Available breeds: "
      ],
      "text/plain": [
       "Available breeds: "
      ]
     },
     "execution_count": 11,
     "metadata": {},
     "output_type": "display_data"
    },
    {
     "data": {
      "text/html": [
       "- 01: Akhal-Teke"
      ],
      "text/plain": [
       "- 01: Akhal-Teke"
      ]
     },
     "execution_count": 11,
     "metadata": {},
     "output_type": "display_data"
    },
    {
     "data": {
      "text/html": [
       "- 02: Appaloosa"
      ],
      "text/plain": [
       "- 02: Appaloosa"
      ]
     },
     "execution_count": 11,
     "metadata": {},
     "output_type": "display_data"
    },
    {
     "data": {
      "text/html": [
       "- 03: Orlov Trotter"
      ],
      "text/plain": [
       "- 03: Orlov Trotter"
      ]
     },
     "execution_count": 11,
     "metadata": {},
     "output_type": "display_data"
    },
    {
     "data": {
      "text/html": [
       "- 04: Vladimir Heavy Draft"
      ],
      "text/plain": [
       "- 04: Vladimir Heavy Draft"
      ]
     },
     "execution_count": 11,
     "metadata": {},
     "output_type": "display_data"
    },
    {
     "data": {
      "text/html": [
       "- 05: Percheron"
      ],
      "text/plain": [
       "- 05: Percheron"
      ]
     },
     "execution_count": 11,
     "metadata": {},
     "output_type": "display_data"
    },
    {
     "data": {
      "text/html": [
       "- 06: Arabian"
      ],
      "text/plain": [
       "- 06: Arabian"
      ]
     },
     "execution_count": 11,
     "metadata": {},
     "output_type": "display_data"
    },
    {
     "data": {
      "text/html": [
       "- 07: Friesian"
      ],
      "text/plain": [
       "- 07: Friesian"
      ]
     },
     "execution_count": 11,
     "metadata": {},
     "output_type": "display_data"
    }
   ],
   "source": [
    "// (Sanity check) Get all unique breeds\n",
    "var breeds = Directory.GetFiles(\"images\").Select(f => \n",
    "                                    {\n",
    "                                        // Get file name\n",
    "                                        string name = Path.GetFileNameWithoutExtension(f);\n",
    "                                        // Get breed name\n",
    "                                        string breed = name.Substring(0, name.LastIndexOf('_'));\n",
    "                                        return breed;\n",
    "                                    }).Distinct().ToList();\n",
    "Console.WriteLine(\"Available breeds: \");\n",
    "breeds.ForEach(b => Console.WriteLine($\"- {b}: {IDs[b]}\"));"
   ]
  },
  {
   "cell_type": "code",
   "execution_count": 20,
   "id": "working-first",
   "metadata": {},
   "outputs": [
    {
     "ename": "System.IO.DirectoryNotFoundException",
     "evalue": "パス 'C:\\Users\\szinu\\Desktop\\Test\\horses\\images' の一部が見つかりませんでした。",
     "execution_count": 20,
     "output_type": "error",
     "traceback": [
      "パス 'C:\\Users\\szinu\\Desktop\\Test\\horses\\images' の一部が見つかりませんでした。",
      "   場所 System.IO.__Error.WinIOError(Int32 errorCode, String maybeFullPath)\r",
      "   場所 System.IO.FileSystemEnumerableIterator`1.CommonInit()\r",
      "   場所 System.IO.FileSystemEnumerableIterator`1..ctor(String path, String originalUserPath, String searchPattern, SearchOption searchOption, SearchResultHandler`1 resultHandler, Boolean checkHost)\r",
      "   場所 System.IO.Directory.GetFiles(String path)\r",
      "   場所 Submission#19..ctor(Object[] submissionArray, Object& submissionResult)\r",
      "   場所 Submission#19.<Factory>(Object[] submissionArray)\r",
      "   場所 Microsoft.CodeAnalysis.Scripting.ScriptExecutionState.RunSubmission(Func`2 submissionRunner)\r",
      "   場所 Microsoft.CodeAnalysis.Scripting.Script.TryRunFrom(ScriptState state, ScriptExecutionState& executionState, Object& value)\r",
      "   場所 Microsoft.CodeAnalysis.Scripting.Script.Run(Object globals)\r",
      "   場所 Microsoft.CodeAnalysis.Scripting.Script.Run(Object globals)\r",
      "   場所 ScriptCs.Engine.Roslyn.CSharpScriptEngine.GetScriptState(String code, Object globals) 場所 C:\\Users\\szinu\\Desktop\\Test\\icsharp\\icsharp\\Engine\\src\\ScriptCs.Engine.Roslyn\\CSharpScriptEngine.cs:行 18\r",
      "   場所 ScriptCs.Engine.Roslyn.CommonScriptEngine.Execute(String code, Object globals, SessionState`1 sessionState) 場所 C:\\Users\\szinu\\Desktop\\Test\\icsharp\\icsharp\\Engine\\src\\ScriptCs.Engine.Roslyn\\CommonScriptEngine.cs:行 158"
     ]
    }
   ],
   "source": [
    "// Put files into corresponding subfolders\n",
    "string[] files = Directory.GetFiles(\"images\");\n",
    "Console.WriteLine($\"Process {files.Length} files.\");\n",
    "foreach(string f in files)\n",
    "{\n",
    "    // Get file name\n",
    "    string name = Path.GetFileNameWithoutExtension(f);\n",
    "    string extension = Path.GetExtension(f);\n",
    "    // Get breed name\n",
    "    int split = name.LastIndexOf('_');\n",
    "    string breed = name.Substring(0, split);\n",
    "    // Move the file into corresponding folder\n",
    "    string newName = $\"{name.Substring(split + 1)}{extension}\";\n",
    "    string folder = Path.GetDirectoryName(f);\n",
    "    string newPath = Path.Combine(IDs[breed], newName);\n",
    "    File.Move(f, newPath);\n",
    "}\n",
    "// Delete the images folder\n",
    "Directory.Delete(\"images\");"
   ]
  }
 ],
 "metadata": {
  "kernelspec": {
   "display_name": "C#",
   "language": "csharp",
   "name": "kernel-spec"
  },
  "language_info": {
   "file_extension": ".cs",
   "mimetype": "text/x-csharp",
   "name": "C#",
   "pygments_lexer": "c#",
   "version": "4.0.30319"
  }
 },
 "nbformat": 4,
 "nbformat_minor": 5
}
