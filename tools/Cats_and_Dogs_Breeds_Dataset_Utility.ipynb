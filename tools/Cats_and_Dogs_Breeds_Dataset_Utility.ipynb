{
 "cells": [
  {
   "cell_type": "markdown",
   "id": "southwest-desktop",
   "metadata": {},
   "source": [
    "# Overview\n",
    "\n",
    "A *C#* utility to split images in the format `namepart1_namepart2_index.jpg` (or for that matter `name_index.jpg` into corresponding image folders of `name/index.jpg`. This utility require a C# kernel to run.\n",
    "\n",
    "This program is used to process the **images** folder from [Cats and Dogs Breeds dataset](https://www.kaggle.com/zippyz/cats-and-dogs-breeds-classification-oxford-dataset). It must be run on **the folder that contains the *images* folder** (i.e. inside the parent folder of **images** folder)."
   ]
  },
  {
   "cell_type": "code",
   "execution_count": 12,
   "id": "removable-latin",
   "metadata": {},
   "outputs": [],
   "source": [
    "// Namepsaces\n",
    "using System.IO;\n",
    "using System.Linq;\n",
    "using System.Globalization;"
   ]
  },
  {
   "cell_type": "code",
   "execution_count": 8,
   "id": "selected-victory",
   "metadata": {},
   "outputs": [
    {
     "data": {
      "text/html": [
       "Deleting file: images\\Abyssinian_100.mat"
      ],
      "text/plain": [
       "Deleting file: images\\Abyssinian_100.mat"
      ]
     },
     "execution_count": 8,
     "metadata": {},
     "output_type": "display_data"
    },
    {
     "data": {
      "text/html": [
       "Deleting file: images\\Abyssinian_101.mat"
      ],
      "text/plain": [
       "Deleting file: images\\Abyssinian_101.mat"
      ]
     },
     "execution_count": 8,
     "metadata": {},
     "output_type": "display_data"
    },
    {
     "data": {
      "text/html": [
       "Deleting file: images\\Abyssinian_102.mat"
      ],
      "text/plain": [
       "Deleting file: images\\Abyssinian_102.mat"
      ]
     },
     "execution_count": 8,
     "metadata": {},
     "output_type": "display_data"
    }
   ],
   "source": [
    "// (Sanity check) See whether we have file names not ends with .jpg\n",
    "foreach(string s in Directory.GetFiles(\"images\").Where(f => f.EndsWith(\".jpg\") == false))\n",
    "{\n",
    "    Console.WriteLine($\"Deleting file: {s}\");\n",
    "    File.Delete(s);\n",
    "}"
   ]
  },
  {
   "cell_type": "code",
   "execution_count": 24,
   "id": "laden-broadcasting",
   "metadata": {},
   "outputs": [
    {
     "data": {
      "text/html": [
       "Available breeds: "
      ],
      "text/plain": [
       "Available breeds: "
      ]
     },
     "execution_count": 24,
     "metadata": {},
     "output_type": "display_data"
    },
    {
     "data": {
      "text/html": [
       "- Abyssinian"
      ],
      "text/plain": [
       "- Abyssinian"
      ]
     },
     "execution_count": 24,
     "metadata": {},
     "output_type": "display_data"
    },
    {
     "data": {
      "text/html": [
       "- American Bulldog"
      ],
      "text/plain": [
       "- American Bulldog"
      ]
     },
     "execution_count": 24,
     "metadata": {},
     "output_type": "display_data"
    },
    {
     "data": {
      "text/html": [
       "- American Pit Bull Terrier"
      ],
      "text/plain": [
       "- American Pit Bull Terrier"
      ]
     },
     "execution_count": 24,
     "metadata": {},
     "output_type": "display_data"
    },
    {
     "data": {
      "text/html": [
       "- Basset Hound"
      ],
      "text/plain": [
       "- Basset Hound"
      ]
     },
     "execution_count": 24,
     "metadata": {},
     "output_type": "display_data"
    },
    {
     "data": {
      "text/html": [
       "- Beagle"
      ],
      "text/plain": [
       "- Beagle"
      ]
     },
     "execution_count": 24,
     "metadata": {},
     "output_type": "display_data"
    },
    {
     "data": {
      "text/html": [
       "- Bengal"
      ],
      "text/plain": [
       "- Bengal"
      ]
     },
     "execution_count": 24,
     "metadata": {},
     "output_type": "display_data"
    },
    {
     "data": {
      "text/html": [
       "- Birman"
      ],
      "text/plain": [
       "- Birman"
      ]
     },
     "execution_count": 24,
     "metadata": {},
     "output_type": "display_data"
    },
    {
     "data": {
      "text/html": [
       "- Bombay"
      ],
      "text/plain": [
       "- Bombay"
      ]
     },
     "execution_count": 24,
     "metadata": {},
     "output_type": "display_data"
    },
    {
     "data": {
      "text/html": [
       "- Boxer"
      ],
      "text/plain": [
       "- Boxer"
      ]
     },
     "execution_count": 24,
     "metadata": {},
     "output_type": "display_data"
    },
    {
     "data": {
      "text/html": [
       "- British Shorthair"
      ],
      "text/plain": [
       "- British Shorthair"
      ]
     },
     "execution_count": 24,
     "metadata": {},
     "output_type": "display_data"
    },
    {
     "data": {
      "text/html": [
       "- Chihuahua"
      ],
      "text/plain": [
       "- Chihuahua"
      ]
     },
     "execution_count": 24,
     "metadata": {},
     "output_type": "display_data"
    },
    {
     "data": {
      "text/html": [
       "- Egyptian Mau"
      ],
      "text/plain": [
       "- Egyptian Mau"
      ]
     },
     "execution_count": 24,
     "metadata": {},
     "output_type": "display_data"
    },
    {
     "data": {
      "text/html": [
       "- English Cocker Spaniel"
      ],
      "text/plain": [
       "- English Cocker Spaniel"
      ]
     },
     "execution_count": 24,
     "metadata": {},
     "output_type": "display_data"
    },
    {
     "data": {
      "text/html": [
       "- English Setter"
      ],
      "text/plain": [
       "- English Setter"
      ]
     },
     "execution_count": 24,
     "metadata": {},
     "output_type": "display_data"
    },
    {
     "data": {
      "text/html": [
       "- German Shorthaired"
      ],
      "text/plain": [
       "- German Shorthaired"
      ]
     },
     "execution_count": 24,
     "metadata": {},
     "output_type": "display_data"
    },
    {
     "data": {
      "text/html": [
       "- Great Pyrenees"
      ],
      "text/plain": [
       "- Great Pyrenees"
      ]
     },
     "execution_count": 24,
     "metadata": {},
     "output_type": "display_data"
    },
    {
     "data": {
      "text/html": [
       "- Havanese"
      ],
      "text/plain": [
       "- Havanese"
      ]
     },
     "execution_count": 24,
     "metadata": {},
     "output_type": "display_data"
    },
    {
     "data": {
      "text/html": [
       "- Japanese Chin"
      ],
      "text/plain": [
       "- Japanese Chin"
      ]
     },
     "execution_count": 24,
     "metadata": {},
     "output_type": "display_data"
    },
    {
     "data": {
      "text/html": [
       "- Keeshond"
      ],
      "text/plain": [
       "- Keeshond"
      ]
     },
     "execution_count": 24,
     "metadata": {},
     "output_type": "display_data"
    },
    {
     "data": {
      "text/html": [
       "- Leonberger"
      ],
      "text/plain": [
       "- Leonberger"
      ]
     },
     "execution_count": 24,
     "metadata": {},
     "output_type": "display_data"
    },
    {
     "data": {
      "text/html": [
       "- Maine Coon"
      ],
      "text/plain": [
       "- Maine Coon"
      ]
     },
     "execution_count": 24,
     "metadata": {},
     "output_type": "display_data"
    },
    {
     "data": {
      "text/html": [
       "- Miniature Pinscher"
      ],
      "text/plain": [
       "- Miniature Pinscher"
      ]
     },
     "execution_count": 24,
     "metadata": {},
     "output_type": "display_data"
    },
    {
     "data": {
      "text/html": [
       "- Newfoundland"
      ],
      "text/plain": [
       "- Newfoundland"
      ]
     },
     "execution_count": 24,
     "metadata": {},
     "output_type": "display_data"
    },
    {
     "data": {
      "text/html": [
       "- Persian"
      ],
      "text/plain": [
       "- Persian"
      ]
     },
     "execution_count": 24,
     "metadata": {},
     "output_type": "display_data"
    },
    {
     "data": {
      "text/html": [
       "- Pomeranian"
      ],
      "text/plain": [
       "- Pomeranian"
      ]
     },
     "execution_count": 24,
     "metadata": {},
     "output_type": "display_data"
    },
    {
     "data": {
      "text/html": [
       "- Pug"
      ],
      "text/plain": [
       "- Pug"
      ]
     },
     "execution_count": 24,
     "metadata": {},
     "output_type": "display_data"
    },
    {
     "data": {
      "text/html": [
       "- Ragdoll"
      ],
      "text/plain": [
       "- Ragdoll"
      ]
     },
     "execution_count": 24,
     "metadata": {},
     "output_type": "display_data"
    },
    {
     "data": {
      "text/html": [
       "- Russian Blue"
      ],
      "text/plain": [
       "- Russian Blue"
      ]
     },
     "execution_count": 24,
     "metadata": {},
     "output_type": "display_data"
    },
    {
     "data": {
      "text/html": [
       "- Saint Bernard"
      ],
      "text/plain": [
       "- Saint Bernard"
      ]
     },
     "execution_count": 24,
     "metadata": {},
     "output_type": "display_data"
    },
    {
     "data": {
      "text/html": [
       "- Samoyed"
      ],
      "text/plain": [
       "- Samoyed"
      ]
     },
     "execution_count": 24,
     "metadata": {},
     "output_type": "display_data"
    },
    {
     "data": {
      "text/html": [
       "- Scottish Terrier"
      ],
      "text/plain": [
       "- Scottish Terrier"
      ]
     },
     "execution_count": 24,
     "metadata": {},
     "output_type": "display_data"
    },
    {
     "data": {
      "text/html": [
       "- Shiba Inu"
      ],
      "text/plain": [
       "- Shiba Inu"
      ]
     },
     "execution_count": 24,
     "metadata": {},
     "output_type": "display_data"
    },
    {
     "data": {
      "text/html": [
       "- Siamese"
      ],
      "text/plain": [
       "- Siamese"
      ]
     },
     "execution_count": 24,
     "metadata": {},
     "output_type": "display_data"
    },
    {
     "data": {
      "text/html": [
       "- Sphynx"
      ],
      "text/plain": [
       "- Sphynx"
      ]
     },
     "execution_count": 24,
     "metadata": {},
     "output_type": "display_data"
    },
    {
     "data": {
      "text/html": [
       "- Staffordshire Bull Terrier"
      ],
      "text/plain": [
       "- Staffordshire Bull Terrier"
      ]
     },
     "execution_count": 24,
     "metadata": {},
     "output_type": "display_data"
    },
    {
     "data": {
      "text/html": [
       "- Wheaten Terrier"
      ],
      "text/plain": [
       "- Wheaten Terrier"
      ]
     },
     "execution_count": 24,
     "metadata": {},
     "output_type": "display_data"
    },
    {
     "data": {
      "text/html": [
       "- Yorkshire Terrier"
      ],
      "text/plain": [
       "- Yorkshire Terrier"
      ]
     },
     "execution_count": 24,
     "metadata": {},
     "output_type": "display_data"
    }
   ],
   "source": [
    "// (Sanity check) Get all unique breeds\n",
    "TextInfo ti = CultureInfo.CurrentCulture.TextInfo;\n",
    "var breeds = Directory.GetFiles(\"images\").Select(f => \n",
    "                                    {\n",
    "                                        // Get file name\n",
    "                                        string name = Path.GetFileNameWithoutExtension(f);\n",
    "                                        // Get breed name\n",
    "                                        string breed = ti.ToTitleCase(name.Substring(0, name.LastIndexOf('_')).Replace('_', ' '));\n",
    "                                        return breed;\n",
    "                                    }).Distinct().ToList();\n",
    "Console.WriteLine(\"Available breeds: \");\n",
    "breeds.ForEach(b => Console.WriteLine($\"- {b}\"));\n",
    "// Create directories for breeds\n",
    "breeds.ForEach(b => Directory.CreateDirectory(b));"
   ]
  },
  {
   "cell_type": "code",
   "execution_count": 51,
   "id": "parliamentary-specification",
   "metadata": {},
   "outputs": [
    {
     "data": {
      "text/html": [
       "Process 0 files."
      ],
      "text/plain": [
       "Process 0 files."
      ]
     },
     "execution_count": 51,
     "metadata": {},
     "output_type": "display_data"
    }
   ],
   "source": [
    "// Put files into corresponding subfolders\n",
    "string[] files = Directory.GetFiles(\"images\");\n",
    "Console.WriteLine($\"Process {files.Length} files.\");\n",
    "foreach(string f in files)\n",
    "{\n",
    "    // Get file name\n",
    "    string name = Path.GetFileNameWithoutExtension(f);\n",
    "    string extension = Path.GetExtension(f);\n",
    "    // Get breed name\n",
    "    int split = name.LastIndexOf('_');\n",
    "    string breed = ti.ToTitleCase(name.Substring(0, split).Replace('_', ' '));\n",
    "    // Move the file into corresponding folder\n",
    "    string newName = $\"{name.Substring(split + 1)}{extension}\";\n",
    "    string folder = Path.GetDirectoryName(f);\n",
    "    string newPath = Path.Combine(Directory.GetCurrentDirectory(), breed, newName);\n",
    "    File.Move(f, newPath);\n",
    "}\n",
    "// Delete the images folder\n",
    "Directory.Delete(\"images\");"
   ]
  }
 ],
 "metadata": {
  "kernelspec": {
   "display_name": "C#",
   "language": "csharp",
   "name": "kernel-spec"
  },
  "language_info": {
   "file_extension": ".cs",
   "mimetype": "text/x-csharp",
   "name": "C#",
   "pygments_lexer": "c#",
   "version": "4.0.30319"
  }
 },
 "nbformat": 4,
 "nbformat_minor": 5
}
