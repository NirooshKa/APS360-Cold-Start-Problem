{
 "cells": [
  {
   "cell_type": "markdown",
   "id": "wrong-moderator",
   "metadata": {},
   "source": [
    "## Setup\n",
    "Run following code to setup dataset loading. You need to execute **initialize.sh** before running this notebook.\n",
    "\n",
    "Use the follow sequence of commands to setup a proper environment:\n",
    "\n",
    "```\n",
    "git clone https://github.com/NirooshKa/APS360-Cold-Start-Problem.git\n",
    "cd APS360-Cold-Start-Problem\n",
    "./initialize.sh\n",
    "pip install torch==1.8.0+cpu torchvision==0.9.0+cpu torchaudio===0.8.0 -f https://download.pytorch.org/whl/torch_stable.html\n",
    "pip install jupyterlab\n",
    "pip install matplotlib\n",
    "jupyter-lab\n",
    "```"
   ]
  },
  {
   "cell_type": "code",
   "execution_count": null,
   "id": "stupid-innocent",
   "metadata": {},
   "outputs": [],
   "source": [
    "# Import all necessary modules\n",
    "import numpy as np\n",
    "import matplotlib.pyplot as plt\n",
    "import torch\n",
    "from torchvision import datasets, transforms\n",
    "from torch.utils.data.sampler import SubsetRandomSampler"
   ]
  },
  {
   "cell_type": "code",
   "execution_count": null,
   "id": "friendly-report",
   "metadata": {},
   "outputs": [],
   "source": [
    "available_names = [\"cats\", \"cats_and_dogs\", \"flowers\", \"horses\"] # Available dataset types\n",
    "split_ratios = [0.8, 0.1, 0.1] # Sum must equals 1\n",
    "\n",
    "def get_data_loader_type(name, batch_size=4, num_workers=1):\n",
    "    \"\"\"Get a set of dataloaders for a particular type\n",
    "    Available types are:\n",
    "    - cats\n",
    "    - cats_and_dogs\n",
    "    - flowers\n",
    "    - horses\n",
    "    \"\"\"\n",
    "    # Input Validation\n",
    "    if name not in available_names:\n",
    "        print(f\"Input name is not available: {name}.\")\n",
    "        return\n",
    "    \n",
    "    # Load all data labeled with folder name\n",
    "    dataset = datasets.ImageFolder(root=name,\n",
    "            transform=transforms.ToTensor())\n",
    "    # Prepare splitting\n",
    "    indices = [idx for idx in range(len(dataset))] # To apply additional filtering: if list(dataset[idx][0].shape) == [3, 224, 224]\n",
    "    # Randomize set\n",
    "    np.random.seed(1000) # Fixed numpy random seed for reproducible shuffling\n",
    "    np.random.shuffle(indices)\n",
    "    # Get splits\n",
    "    split1 = int(len(indices) * split_ratios[0])\n",
    "    split2 = int(len(indices) * (split_ratios[0] + split_ratios[1]))\n",
    "    # Split into training, validation and test\n",
    "    train_indices, val_indices, test_indices = indices[:split1], indices[split1:split2], indices[split2:]\n",
    "    train_sampler = SubsetRandomSampler(train_indices)\n",
    "    val_sampler = SubsetRandomSampler(val_indices)\n",
    "    test_sampler = SubsetRandomSampler(test_indices)\n",
    "    # Create corresponding loaders\n",
    "    train_loader = torch.utils.data.DataLoader(dataset, batch_size=batch_size, num_workers=num_workers, \n",
    "                                               sampler=train_sampler, shuffle=False)\n",
    "    val_loader = torch.utils.data.DataLoader(dataset, batch_size=batch_size, num_workers=num_workers,\n",
    "                                             sampler=val_sampler, shuffle=False)\n",
    "    test_loader = torch.utils.data.DataLoader(dataset, batch_size=batch_size,num_workers=num_workers, \n",
    "                                              sampler=test_sampler, shuffle=False)\n",
    "    # Return\n",
    "    return train_loader, val_loader, test_loader, dataset.classes\n",
    "\n",
    "def get_data_loader_total():\n",
    "    \"\"\"Get a single (set of) dataloaders with mixed data \n",
    "    \"\"\""
   ]
  },
  {
   "cell_type": "code",
   "execution_count": null,
   "id": "early-sender",
   "metadata": {},
   "outputs": [],
   "source": [
    "horse_IDs = { 0: \"Akhal-Teke\", 1: \"Appaloosa\", 2: \"Orlov Trotter\", 3: \"Vladimir Heavy Draft\", 4: \"Percheron\", 5: \"Arabian\", 6: \"Friesian\"}\n",
    "\n",
    "def showImages(data_loader, count = 15):\n",
    "    k = 0\n",
    "    plt.figure(figsize=(36,36))\n",
    "    for images, labels in data_loader:\n",
    "        # since batch_size = 1, there is only 1 image in `images`\n",
    "        image = images[0]\n",
    "        # place the colour channel at the end, instead of at the beginning\n",
    "        img = np.transpose(image, [1,2,0])\n",
    "        # Plot\n",
    "        p = plt.subplot(3, 5, k+1)\n",
    "        p.set_title(horse_IDs[labels[0].item()])\n",
    "        plt.axis('off')\n",
    "        plt.imshow(img, interpolation='nearest')\n",
    "\n",
    "        k += 1\n",
    "        if k > count - 1:\n",
    "            break"
   ]
  },
  {
   "cell_type": "markdown",
   "id": "thermal-fetish",
   "metadata": {},
   "source": [
    "## Preview Data\n",
    "\n",
    "Use below snippets to help preview data."
   ]
  },
  {
   "cell_type": "code",
   "execution_count": null,
   "id": "naval-vanilla",
   "metadata": {},
   "outputs": [],
   "source": [
    "# Configurations\n",
    "train_loader, val_loader, test_loader, classes = get_data_loader_type('horses', batch_size=)"
   ]
  },
  {
   "cell_type": "code",
   "execution_count": null,
   "id": "convenient-comparative",
   "metadata": {
    "tags": []
   },
   "outputs": [],
   "source": [
    "print(\"Train Loader:\")\n",
    "showImages(train_loader)\n",
    "print(f'Available classes: {classes}')"
   ]
  }
 ],
 "metadata": {
  "kernelspec": {
   "display_name": "Python 3",
   "language": "python",
   "name": "python3"
  },
  "language_info": {
   "codemirror_mode": {
    "name": "ipython",
    "version": 3
   },
   "file_extension": ".py",
   "mimetype": "text/x-python",
   "name": "python",
   "nbconvert_exporter": "python",
   "pygments_lexer": "ipython3",
   "version": "3.8.3"
  }
 },
 "nbformat": 4,
 "nbformat_minor": 5
}
